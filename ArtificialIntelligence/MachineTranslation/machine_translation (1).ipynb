{
 "cells": [
  {
   "cell_type": "markdown",
   "metadata": {
    "collapsed": true
   },
   "source": [
    "# Artificial Intelligence Nanodegree\n",
    "## Machine Translation Project\n",
    "In this notebook, sections that end with **'(IMPLEMENTATION)'** in the header indicate that the following blocks of code will require additional functionality which you must provide. Please be sure to read the instructions carefully!\n",
    "\n",
    "## Introduction\n",
    "In this notebook, you will build a deep neural network that functions as part of an end-to-end machine translation pipeline. Your completed pipeline will accept English text as input and return the French translation.\n",
    "\n",
    "- **Preprocess** - You'll convert text to sequence of integers.\n",
    "- **Models** Create models which accepts a sequence of integers as input and returns a probability distribution over possible translations. After learning about the basic types of neural networks that are often used for machine translation, you will engage in your own investigations, to design your own model!\n",
    "- **Prediction** Run the model on English text.\n",
    "\n",
    "## Dataset\n",
    "We begin by investigating the dataset that will be used to train and evaluate your pipeline.  The most common datasets used for machine translation are from [WMT](http://www.statmt.org/).  However, that will take a long time to train a neural network on.  We'll be using a dataset we created for this project that contains a small vocabulary.  You'll be able to train your model in a reasonable time with this dataset.\n",
    "### Load Data\n",
    "The data is located in `data/small_vocab_en` and `data/small_vocab_fr`. The `small_vocab_en` file contains English sentences with their French translations in the `small_vocab_fr` file. Load the English and French data from these files from running the cell below."
   ]
  },
  {
   "cell_type": "code",
   "execution_count": 1,
   "metadata": {
    "scrolled": false
   },
   "outputs": [
    {
     "name": "stdout",
     "output_type": "stream",
     "text": [
      "Dataset Loaded\n"
     ]
    }
   ],
   "source": [
    "import helper\n",
    "\n",
    "\n",
    "# Load English data\n",
    "english_sentences = helper.load_data('data/small_vocab_en')\n",
    "# Load French data\n",
    "french_sentences = helper.load_data('data/small_vocab_fr')\n",
    "\n",
    "print('Dataset Loaded')"
   ]
  },
  {
   "cell_type": "markdown",
   "metadata": {},
   "source": [
    "### Files\n",
    "Each line in `small_vocab_en` contains an English sentence with the respective translation in each line of `small_vocab_fr`.  View the first two lines from each file."
   ]
  },
  {
   "cell_type": "code",
   "execution_count": 2,
   "metadata": {},
   "outputs": [
    {
     "name": "stdout",
     "output_type": "stream",
     "text": [
      "small_vocab_en Line 1:  new jersey is sometimes quiet during autumn , and it is snowy in april .\n",
      "small_vocab_fr Line 1:  new jersey est parfois calme pendant l' automne , et il est neigeux en avril .\n",
      "small_vocab_en Line 2:  the united states is usually chilly during july , and it is usually freezing in november .\n",
      "small_vocab_fr Line 2:  les états-unis est généralement froid en juillet , et il gèle habituellement en novembre .\n"
     ]
    }
   ],
   "source": [
    "for sample_i in range(2):\n",
    "    print('small_vocab_en Line {}:  {}'.format(sample_i + 1, english_sentences[sample_i]))\n",
    "    print('small_vocab_fr Line {}:  {}'.format(sample_i + 1, french_sentences[sample_i]))"
   ]
  },
  {
   "cell_type": "markdown",
   "metadata": {},
   "source": [
    "From looking at the sentences, you can see they have been preprocessed already.  The puncuations have been delimited using spaces. All the text have been converted to lowercase.  This should save you some time, but the text requires more preprocessing.\n",
    "### Vocabulary\n",
    "The complexity of the problem is determined by the complexity of the vocabulary.  A more complex vocabulary is a more complex problem.  Let's look at the complexity of the dataset we'll be working with."
   ]
  },
  {
   "cell_type": "code",
   "execution_count": 3,
   "metadata": {},
   "outputs": [
    {
     "name": "stdout",
     "output_type": "stream",
     "text": [
      "1823250 English words.\n",
      "227 unique English words.\n",
      "10 Most common words in the English dataset:\n",
      "\"is\" \",\" \".\" \"in\" \"it\" \"during\" \"the\" \"but\" \"and\" \"sometimes\"\n",
      "\n",
      "1961295 French words.\n",
      "355 unique French words.\n",
      "10 Most common words in the French dataset:\n",
      "\"est\" \".\" \",\" \"en\" \"il\" \"les\" \"mais\" \"et\" \"la\" \"parfois\"\n"
     ]
    }
   ],
   "source": [
    "import collections\n",
    "\n",
    "\n",
    "english_words_counter = collections.Counter([word for sentence in english_sentences for word in sentence.split()])\n",
    "french_words_counter = collections.Counter([word for sentence in french_sentences for word in sentence.split()])\n",
    "\n",
    "print('{} English words.'.format(len([word for sentence in english_sentences for word in sentence.split()])))\n",
    "print('{} unique English words.'.format(len(english_words_counter)))\n",
    "print('10 Most common words in the English dataset:')\n",
    "print('\"' + '\" \"'.join(list(zip(*english_words_counter.most_common(10)))[0]) + '\"')\n",
    "print()\n",
    "print('{} French words.'.format(len([word for sentence in french_sentences for word in sentence.split()])))\n",
    "print('{} unique French words.'.format(len(french_words_counter)))\n",
    "print('10 Most common words in the French dataset:')\n",
    "print('\"' + '\" \"'.join(list(zip(*french_words_counter.most_common(10)))[0]) + '\"')"
   ]
  },
  {
   "cell_type": "markdown",
   "metadata": {},
   "source": [
    "For comparison, _Alice's Adventures in Wonderland_ contains 2,766 unique words of a total of 15,500 words.\n",
    "## Preprocess\n",
    "For this project, you won't use text data as input to your model. Instead, you'll convert the text into sequences of integers using the following preprocess methods:\n",
    "1. Tokenize the words into ids\n",
    "2. Add padding to make all the sequences the same length.\n",
    "\n",
    "Time to start preprocessing the data...\n",
    "### Tokenize (IMPLEMENTATION)\n",
    "For a neural network to predict on text data, it first has to be turned into data it can understand. Text data like \"dog\" is a sequence of ASCII character encodings.  Since a neural network is a series of multiplication and addition operations, the input data needs to be number(s).\n",
    "\n",
    "We can turn each character into a number or each word into a number.  These are called character and word ids, respectively.  Character ids are used for character level models that generate text predictions for each character.  A word level model uses word ids that generate text predictions for each word.  Word level models tend to learn better, since they are lower in complexity, so we'll use those.\n",
    "\n",
    "Turn each sentence into a sequence of words ids using Keras's [`Tokenizer`](https://keras.io/preprocessing/text/#tokenizer) function. Use this function to tokenize `english_sentences` and `french_sentences` in the cell below.\n",
    "\n",
    "Running the cell will run `tokenize` on sample data and show output for debugging."
   ]
  },
  {
   "cell_type": "code",
   "execution_count": 4,
   "metadata": {},
   "outputs": [
    {
     "name": "stderr",
     "output_type": "stream",
     "text": [
      "Using TensorFlow backend.\n"
     ]
    },
    {
     "name": "stdout",
     "output_type": "stream",
     "text": [
      "{'quick': 2, 'dog': 9, 'by': 10, 'of': 14, 'sentence': 21, 'short': 20, 'jumps': 6, 'a': 3, 'my': 12, 'this': 18, 'fox': 5, 'won': 16, 'brown': 4, 'jove': 11, 'lazy': 8, 'the': 1, 'lexicography': 15, 'is': 19, 'prize': 17, 'over': 7, 'study': 13}\n",
      "\n",
      "Sequence 1 in x\n",
      "  Input:  The quick brown fox jumps over the lazy dog .\n",
      "  Output: [1, 2, 4, 5, 6, 7, 1, 8, 9]\n",
      "Sequence 2 in x\n",
      "  Input:  By Jove , my quick study of lexicography won a prize .\n",
      "  Output: [10, 11, 12, 2, 13, 14, 15, 16, 3, 17]\n",
      "Sequence 3 in x\n",
      "  Input:  This is a short sentence .\n",
      "  Output: [18, 19, 3, 20, 21]\n"
     ]
    }
   ],
   "source": [
    "import project_tests as tests\n",
    "from keras.preprocessing.text import Tokenizer\n",
    "\n",
    "\n",
    "def tokenize(x):\n",
    "    \"\"\"\n",
    "    Tokenize x\n",
    "    :param x: List of sentences/strings to be tokenized\n",
    "    :return: Tuple of (tokenized x data, tokenizer used to tokenize x)\n",
    "    \"\"\"\n",
    "    # TODO: Implement\n",
    "    tk = Tokenizer()\n",
    "    tk.fit_on_texts(x)\n",
    "    tokenized = tk.texts_to_sequences(x)\n",
    "    return tokenized, tk\n",
    "tests.test_tokenize(tokenize)\n",
    "\n",
    "# Tokenize Example output\n",
    "text_sentences = [\n",
    "    'The quick brown fox jumps over the lazy dog .',\n",
    "    'By Jove , my quick study of lexicography won a prize .',\n",
    "    'This is a short sentence .']\n",
    "text_tokenized, text_tokenizer = tokenize(text_sentences)\n",
    "print(text_tokenizer.word_index)\n",
    "print()\n",
    "for sample_i, (sent, token_sent) in enumerate(zip(text_sentences, text_tokenized)):\n",
    "    print('Sequence {} in x'.format(sample_i + 1))\n",
    "    print('  Input:  {}'.format(sent))\n",
    "    print('  Output: {}'.format(token_sent))"
   ]
  },
  {
   "cell_type": "markdown",
   "metadata": {},
   "source": [
    "### Padding (IMPLEMENTATION)\n",
    "When batching the sequence of word ids together, each sequence needs to be the same length.  Since sentences are dynamic in length, we can add padding to the end of the sequences to make them the same length.\n",
    "\n",
    "Make sure all the English sequences have the same length and all the French sequences have the same length by adding padding to the **end** of each sequence using Keras's [`pad_sequences`](https://keras.io/preprocessing/sequence/#pad_sequences) function."
   ]
  },
  {
   "cell_type": "code",
   "execution_count": 5,
   "metadata": {},
   "outputs": [
    {
     "name": "stdout",
     "output_type": "stream",
     "text": [
      "Sequence 1 in x\n",
      "  Input:  [1 2 4 5 6 7 1 8 9]\n",
      "  Output: [1 2 4 5 6 7 1 8 9 0]\n",
      "Sequence 2 in x\n",
      "  Input:  [10 11 12  2 13 14 15 16  3 17]\n",
      "  Output: [10 11 12  2 13 14 15 16  3 17]\n",
      "Sequence 3 in x\n",
      "  Input:  [18 19  3 20 21]\n",
      "  Output: [18 19  3 20 21  0  0  0  0  0]\n"
     ]
    }
   ],
   "source": [
    "import numpy as np\n",
    "from keras.preprocessing.sequence import pad_sequences\n",
    "\n",
    "\n",
    "def pad(x, length=None):\n",
    "    \"\"\"\n",
    "    Pad x\n",
    "    :param x: List of sequences.\n",
    "    :param length: Length to pad the sequence to.  If None, use length of longest sequence in x.\n",
    "    :return: Padded numpy array of sequences\n",
    "    \"\"\"\n",
    "    # TODO: Implement\n",
    "    return pad_sequences(x,maxlen = length,dtype = 'int32',padding='post',value=0.)\n",
    "tests.test_pad(pad)\n",
    "\n",
    "tests.test_pad(pad)\n",
    "\n",
    "# Pad Tokenized output\n",
    "test_pad = pad(text_tokenized)\n",
    "for sample_i, (token_sent, pad_sent) in enumerate(zip(text_tokenized, test_pad)):\n",
    "    print('Sequence {} in x'.format(sample_i + 1))\n",
    "    print('  Input:  {}'.format(np.array(token_sent)))\n",
    "    print('  Output: {}'.format(pad_sent))"
   ]
  },
  {
   "cell_type": "markdown",
   "metadata": {},
   "source": [
    "### Preprocess Pipeline\n",
    "Your focus for this project is to build neural network architecture, so we won't ask you to create a preprocess pipeline.  Instead, we've provided you with the implementation of the `preprocess` function."
   ]
  },
  {
   "cell_type": "code",
   "execution_count": 6,
   "metadata": {},
   "outputs": [
    {
     "name": "stdout",
     "output_type": "stream",
     "text": [
      "Data Preprocessed\n"
     ]
    }
   ],
   "source": [
    "def preprocess(x, y):\n",
    "    \"\"\"\n",
    "    Preprocess x and y\n",
    "    :param x: Feature List of sentences\n",
    "    :param y: Label List of sentences\n",
    "    :return: Tuple of (Preprocessed x, Preprocessed y, x tokenizer, y tokenizer)\n",
    "    \"\"\"\n",
    "    preprocess_x, x_tk = tokenize(x)\n",
    "    preprocess_y, y_tk = tokenize(y)\n",
    "\n",
    "    preprocess_x = pad(preprocess_x)\n",
    "    preprocess_y = pad(preprocess_y)\n",
    "\n",
    "    # Keras's sparse_categorical_crossentropy function requires the labels to be in 3 dimensions\n",
    "    preprocess_y = preprocess_y.reshape(*preprocess_y.shape, 1)\n",
    "\n",
    "    return preprocess_x, preprocess_y, x_tk, y_tk\n",
    "\n",
    "preproc_english_sentences, preproc_french_sentences, english_tokenizer, french_tokenizer =\\\n",
    "    preprocess(english_sentences, french_sentences)\n",
    "\n",
    "print('Data Preprocessed')"
   ]
  },
  {
   "cell_type": "markdown",
   "metadata": {},
   "source": [
    "## Models\n",
    "In this section, you will experiment with various neural network architectures.\n",
    "You will begin by training four relatively simple architectures.\n",
    "- Model 1 is a simple RNN\n",
    "- Model 2 is a RNN with Embedding\n",
    "- Model 3 is a Bidirectional RNN\n",
    "- Model 4 is an optional Encoder-Decoder RNN\n",
    "\n",
    "After experimenting with the four simple architectures, you will construct a deeper architecture that is designed to outperform all four models.\n",
    "### Ids Back to Text\n",
    "The neural network will be translating the input to words ids, which isn't the final form we want.  We want the French translation.  The function `logits_to_text` will bridge the gab between the logits from the neural network to the French translation.  You'll be using this function to better understand the output of the neural network."
   ]
  },
  {
   "cell_type": "code",
   "execution_count": 7,
   "metadata": {},
   "outputs": [
    {
     "name": "stdout",
     "output_type": "stream",
     "text": [
      "`logits_to_text` function loaded.\n"
     ]
    }
   ],
   "source": [
    "def logits_to_text(logits, tokenizer):\n",
    "    \"\"\"\n",
    "    Turn logits from a neural network into text using the tokenizer\n",
    "    :param logits: Logits from a neural network\n",
    "    :param tokenizer: Keras Tokenizer fit on the labels\n",
    "    :return: String that represents the text of the logits\n",
    "    \"\"\"\n",
    "    index_to_words = {id: word for word, id in tokenizer.word_index.items()}\n",
    "    index_to_words[0] = '<PAD>'\n",
    "\n",
    "    return ' '.join([index_to_words[prediction] for prediction in np.argmax(logits, 1)])\n",
    "\n",
    "print('`logits_to_text` function loaded.')"
   ]
  },
  {
   "cell_type": "markdown",
   "metadata": {},
   "source": [
    "### Model 1: RNN (IMPLEMENTATION)\n",
    "![RNN](images/rnn.png)\n",
    "A basic RNN model is a good baseline for sequence data.  In this model, you'll build a RNN that translates English to French."
   ]
  },
  {
   "cell_type": "code",
   "execution_count": 8,
   "metadata": {},
   "outputs": [
    {
     "name": "stdout",
     "output_type": "stream",
     "text": [
      "Train on 110288 samples, validate on 27573 samples\n",
      "Epoch 1/10\n",
      "110288/110288 [==============================] - 8s - loss: 4.7851 - acc: 0.3580 - val_loss: nan - val_acc: 0.4410\n",
      "Epoch 2/10\n",
      "110288/110288 [==============================] - 6s - loss: 2.9908 - acc: 0.4242 - val_loss: nan - val_acc: 0.4184\n",
      "Epoch 3/10\n",
      "110288/110288 [==============================] - 6s - loss: 2.7078 - acc: 0.4351 - val_loss: nan - val_acc: 0.4555\n",
      "Epoch 4/10\n",
      "110288/110288 [==============================] - 6s - loss: 2.6196 - acc: 0.4581 - val_loss: nan - val_acc: 0.4659\n",
      "Epoch 5/10\n",
      "110288/110288 [==============================] - 6s - loss: 2.5634 - acc: 0.4650 - val_loss: nan - val_acc: 0.4661\n",
      "Epoch 6/10\n",
      "110288/110288 [==============================] - 6s - loss: 2.5118 - acc: 0.4697 - val_loss: nan - val_acc: 0.4809\n",
      "Epoch 7/10\n",
      "110288/110288 [==============================] - 6s - loss: 2.4351 - acc: 0.4829 - val_loss: nan - val_acc: 0.4860\n",
      "Epoch 8/10\n",
      "110288/110288 [==============================] - 6s - loss: 2.3498 - acc: 0.4883 - val_loss: nan - val_acc: 0.4889\n",
      "Epoch 9/10\n",
      "110288/110288 [==============================] - 6s - loss: 2.2708 - acc: 0.4887 - val_loss: nan - val_acc: 0.4912\n",
      "Epoch 10/10\n",
      "110288/110288 [==============================] - 6s - loss: 2.1961 - acc: 0.4975 - val_loss: nan - val_acc: 0.5158\n",
      "la unis est est est est en mais est est en est en <PAD> <PAD> <PAD> <PAD> <PAD> <PAD> <PAD> <PAD>\n"
     ]
    }
   ],
   "source": [
    "from keras.layers import GRU, Input, Dense, TimeDistributed\n",
    "from keras.models import Model, Sequential\n",
    "from keras.layers import Activation\n",
    "from keras.optimizers import Adam\n",
    "from keras.losses import sparse_categorical_crossentropy\n",
    "\n",
    "\n",
    "def simple_model(input_shape, output_sequence_length, english_vocab_size, french_vocab_size):\n",
    "    \"\"\"\n",
    "    Build and train a basic RNN on x and y\n",
    "    :param input_shape: Tuple of input shape\n",
    "    :param output_sequence_length: Length of output sequence\n",
    "    :param english_vocab_size: Number of unique English words in the dataset\n",
    "    :param french_vocab_size: Number of unique French words in the dataset\n",
    "    :return: Keras model built, but not trained\n",
    "    \"\"\"\n",
    "    # Build the layers\n",
    "    model = Sequential()\n",
    "    model.add(GRU(output_sequence_length, \n",
    "                  input_shape = input_shape[1:], return_sequences=True))\n",
    "    model.add(Dense(french_vocab_size, activation=\"softmax\"))\n",
    "    model.compile(loss=sparse_categorical_crossentropy,\n",
    "                  optimizer=Adam(0.001),\n",
    "                  metrics=['accuracy'])\n",
    "    return model\n",
    "tests.test_simple_model(simple_model)\n",
    "\n",
    "\n",
    "# Reshaping the input to work with a basic RNN\n",
    "tmp_x = pad(preproc_english_sentences, preproc_french_sentences.shape[1])\n",
    "tmp_x = tmp_x.reshape((-1, preproc_french_sentences.shape[-2], 1))\n",
    "\n",
    "# Train the neural network\n",
    "simple_rnn_model = simple_model(\n",
    "    tmp_x.shape,\n",
    "    preproc_french_sentences.shape[1],\n",
    "    len(english_tokenizer.word_index),\n",
    "    len(french_tokenizer.word_index))\n",
    "simple_rnn_model.fit(tmp_x, preproc_french_sentences, batch_size=1024, epochs=10, validation_split=0.2)\n",
    "\n",
    "# Print prediction(s)\n",
    "print(logits_to_text(simple_rnn_model.predict(tmp_x[:1])[0], french_tokenizer))"
   ]
  },
  {
   "cell_type": "markdown",
   "metadata": {},
   "source": [
    "### Model 2: Embedding (IMPLEMENTATION)\n",
    "![RNN](images/embedding.png)\n",
    "You've turned the words into ids, but there's a better representation of a word.  This is called word embeddings.  An embedding is a vector representation of the word that is close to similar words in n-dimensional space, where the n represents the size of the embedding vectors.\n",
    "\n",
    "In this model, you'll create a RNN model using embedding."
   ]
  },
  {
   "cell_type": "code",
   "execution_count": 9,
   "metadata": {},
   "outputs": [
    {
     "name": "stdout",
     "output_type": "stream",
     "text": [
      "Train on 110288 samples, validate on 27573 samples\n",
      "Epoch 1/10\n",
      "110288/110288 [==============================] - 20s - loss: 2.8128 - acc: 0.4854 - val_loss: 1.8507 - val_acc: 0.5614\n",
      "Epoch 2/10\n",
      "110288/110288 [==============================] - 19s - loss: 1.2795 - acc: 0.6961 - val_loss: 0.9301 - val_acc: 0.7708\n",
      "Epoch 3/10\n",
      "110288/110288 [==============================] - 19s - loss: 0.7394 - acc: 0.8014 - val_loss: 0.5950 - val_acc: 0.8280\n",
      "Epoch 4/10\n",
      "110288/110288 [==============================] - 19s - loss: 0.5149 - acc: 0.8468 - val_loss: 0.4429 - val_acc: 0.8660\n",
      "Epoch 5/10\n",
      "110288/110288 [==============================] - 19s - loss: 0.3997 - acc: 0.8768 - val_loss: 0.3572 - val_acc: 0.8889\n",
      "Epoch 6/10\n",
      "110288/110288 [==============================] - 19s - loss: 0.3353 - acc: 0.8937 - val_loss: 0.3111 - val_acc: 0.9007\n",
      "Epoch 7/10\n",
      "110288/110288 [==============================] - 19s - loss: 0.2950 - acc: 0.9053 - val_loss: 0.2820 - val_acc: 0.9089\n",
      "Epoch 8/10\n",
      "110288/110288 [==============================] - 19s - loss: 0.2686 - acc: 0.9129 - val_loss: 0.2641 - val_acc: 0.9136\n",
      "Epoch 9/10\n",
      "110288/110288 [==============================] - 19s - loss: 0.2477 - acc: 0.9189 - val_loss: 0.2425 - val_acc: 0.9205\n",
      "Epoch 10/10\n",
      "110288/110288 [==============================] - 19s - loss: 0.2314 - acc: 0.9235 - val_loss: 0.2278 - val_acc: 0.9244\n",
      "new jersey est parfois calme en l' automne et il est neigeux en avril <PAD> <PAD> <PAD> <PAD> <PAD> <PAD> <PAD>\n"
     ]
    }
   ],
   "source": [
    "from keras.layers.embeddings import Embedding\n",
    "\n",
    "\n",
    "def embed_model(input_shape, output_sequence_length, english_vocab_size, french_vocab_size):\n",
    "    \"\"\"\n",
    "    Build and train a RNN model using word embedding on x and y\n",
    "    :param input_shape: Tuple of input shape\n",
    "    :param output_sequence_length: Length of output sequence\n",
    "    :param english_vocab_size: Number of unique English words in the dataset\n",
    "    :param french_vocab_size: Number of unique French words in the dataset\n",
    "    :return: Keras model built, but not trained\n",
    "    \"\"\"\n",
    "    # Implement\n",
    "    inputs = Input(shape = input_shape[1:])\n",
    "    modelEmbd = Embedding(english_vocab_size, french_vocab_size )(inputs)\n",
    "    modelEmbd = GRU(french_vocab_size, return_sequences=True)(modelEmbd)\n",
    "    outputs = TimeDistributed(Dense(french_vocab_size, activation=\"softmax\"))(modelEmbd)\n",
    "    model = Model(inputs = inputs, outputs = outputs)\n",
    "    model.compile(loss=sparse_categorical_crossentropy,\n",
    "                  optimizer=Adam(0.001),\n",
    "                  metrics=['accuracy'])\n",
    "    return model\n",
    "tests.test_embed_model(embed_model)\n",
    "\n",
    "\n",
    "# Reshape the input\n",
    "tmp_x = pad(preproc_english_sentences, preproc_french_sentences.shape[1])\n",
    "tmp_x = tmp_x.reshape((-1,preproc_french_sentences.shape[-2]))\n",
    "\n",
    "# Train the neural network\n",
    "embed_rnn_model = embed_model(\n",
    "    tmp_x.shape,\n",
    "    preproc_french_sentences.shape[1],\n",
    "    len(english_tokenizer.word_index)+1,\n",
    "    len(french_tokenizer.word_index)+1)\n",
    "\n",
    "embed_rnn_model.fit(tmp_x, preproc_french_sentences, batch_size = 1024, epochs=10, validation_split = 0.2)\n",
    "\n",
    "# Print prediction(s)\n",
    "print(logits_to_text(embed_rnn_model.predict(tmp_x[:1])[0],french_tokenizer))"
   ]
  },
  {
   "cell_type": "markdown",
   "metadata": {},
   "source": [
    "### Model 3: Bidirectional RNNs (IMPLEMENTATION)\n",
    "![RNN](images/bidirectional.png)\n",
    "One restriction of a RNN is that it can't see the future input, only the past.  This is where bidirectional recurrent neural networks come in.  They are able to see the future data."
   ]
  },
  {
   "cell_type": "code",
   "execution_count": 10,
   "metadata": {},
   "outputs": [
    {
     "name": "stdout",
     "output_type": "stream",
     "text": [
      "Train on 110288 samples, validate on 27573 samples\n",
      "Epoch 1/10\n",
      "110288/110288 [==============================] - 10s - loss: 4.8666 - acc: 0.4048 - val_loss: 3.4468 - val_acc: 0.4434\n",
      "Epoch 2/10\n",
      "110288/110288 [==============================] - 10s - loss: 3.2211 - acc: 0.4625 - val_loss: 3.0720 - val_acc: 0.4738\n",
      "Epoch 3/10\n",
      "110288/110288 [==============================] - 10s - loss: 2.9944 - acc: 0.4927 - val_loss: 2.9137 - val_acc: 0.5023\n",
      "Epoch 4/10\n",
      "110288/110288 [==============================] - 10s - loss: 2.8621 - acc: 0.5070 - val_loss: 2.8021 - val_acc: 0.5150\n",
      "Epoch 5/10\n",
      "110288/110288 [==============================] - 10s - loss: 2.7582 - acc: 0.5134 - val_loss: 2.7020 - val_acc: 0.5169\n",
      "Epoch 6/10\n",
      "110288/110288 [==============================] - 9s - loss: 2.6664 - acc: 0.5171 - val_loss: 2.6225 - val_acc: 0.5208\n",
      "Epoch 7/10\n",
      "110288/110288 [==============================] - 10s - loss: 2.5973 - acc: 0.5224 - val_loss: 2.5617 - val_acc: 0.5255\n",
      "Epoch 8/10\n",
      "110288/110288 [==============================] - 10s - loss: 2.5436 - acc: 0.5279 - val_loss: 2.5156 - val_acc: 0.5362\n",
      "Epoch 9/10\n",
      "110288/110288 [==============================] - 10s - loss: 2.5031 - acc: 0.5411 - val_loss: 2.4801 - val_acc: 0.5500\n",
      "Epoch 10/10\n",
      "110288/110288 [==============================] - 9s - loss: 2.4705 - acc: 0.5559 - val_loss: 2.4507 - val_acc: 0.5601\n",
      "l' jersey inde généralement froid en mois et il il il en en <PAD> <PAD> <PAD> <PAD> <PAD> <PAD> <PAD> <PAD>\n"
     ]
    }
   ],
   "source": [
    "from keras.layers import Bidirectional\n",
    "\n",
    "\n",
    "def bd_model(input_shape, output_sequence_length, english_vocab_size, french_vocab_size):\n",
    "    \"\"\"\n",
    "    Build and train a bidirectional RNN model on x and y\n",
    "    :param input_shape: Tuple of input shape\n",
    "    :param output_sequence_length: Length of output sequence\n",
    "    :param english_vocab_size: Number of unique English words in the dataset\n",
    "    :param french_vocab_size: Number of unique French words in the dataset\n",
    "    :return: Keras model built, but not trained\n",
    "    \"\"\"\n",
    "\n",
    "    learning_rate = 0.001\n",
    "    inputs = Input(shape=input_shape[1:])\n",
    "    x = Bidirectional(GRU(output_sequence_length, return_sequences=True))(inputs)\n",
    "    x = TimeDistributed(Dense(french_vocab_size, activation='relu'))(x)\n",
    "    predictions = Activation('softmax')(x)\n",
    "    model = Model(inputs=inputs, outputs=predictions)\n",
    "    model.compile(loss=sparse_categorical_crossentropy,\n",
    "                  optimizer=Adam(learning_rate),\n",
    "                  metrics=['accuracy'])\n",
    "    return model\n",
    "tests.test_embed_model(embed_model)\n",
    "\n",
    "\n",
    "# Reshape the input\n",
    "tmp_x = pad(preproc_english_sentences, preproc_french_sentences.shape[1])\n",
    "tmp_x = tmp_x.reshape((-1,preproc_french_sentences.shape[-2],1))\n",
    "\n",
    "# Train the neural network\n",
    "embed_rnn_model = bd_model(\n",
    "    tmp_x.shape,\n",
    "    preproc_french_sentences.shape[1],\n",
    "    len(english_tokenizer.word_index)+1,\n",
    "    len(french_tokenizer.word_index)+1)\n",
    "\n",
    "embed_rnn_model.fit(tmp_x, preproc_french_sentences, batch_size = 1024, epochs=10, validation_split = 0.2)\n",
    "\n",
    "# Print prediction(s)\n",
    "print(logits_to_text(embed_rnn_model.predict(tmp_x[:1])[0],french_tokenizer))"
   ]
  },
  {
   "cell_type": "markdown",
   "metadata": {},
   "source": [
    "### Model 4: Encoder-Decoder (OPTIONAL)\n",
    "Time to look at encoder-decoder models.  This model is made up of an encoder and decoder. The encoder creates a matrix representation of the sentence.  The decoder takes this matrix as input and predicts the translation as output.\n",
    "\n",
    "Create an encoder-decoder model in the cell below."
   ]
  },
  {
   "cell_type": "code",
   "execution_count": 11,
   "metadata": {},
   "outputs": [
    {
     "ename": "AttributeError",
     "evalue": "'NoneType' object has no attribute 'input_shape'",
     "output_type": "error",
     "traceback": [
      "\u001b[0;31m---------------------------------------------------------------------------\u001b[0m",
      "\u001b[0;31mAttributeError\u001b[0m                            Traceback (most recent call last)",
      "\u001b[0;32m<ipython-input-11-5225acc10207>\u001b[0m in \u001b[0;36m<module>\u001b[0;34m()\u001b[0m\n\u001b[1;32m     13\u001b[0m     \u001b[0;31m# OPTIONAL: Implement\u001b[0m\u001b[0;34m\u001b[0m\u001b[0;34m\u001b[0m\u001b[0m\n\u001b[1;32m     14\u001b[0m     \u001b[0;32mreturn\u001b[0m \u001b[0;32mNone\u001b[0m\u001b[0;34m\u001b[0m\u001b[0m\n\u001b[0;32m---> 15\u001b[0;31m \u001b[0mtests\u001b[0m\u001b[0;34m.\u001b[0m\u001b[0mtest_encdec_model\u001b[0m\u001b[0;34m(\u001b[0m\u001b[0mencdec_model\u001b[0m\u001b[0;34m)\u001b[0m\u001b[0;34m\u001b[0m\u001b[0m\n\u001b[0m\u001b[1;32m     16\u001b[0m \u001b[0;34m\u001b[0m\u001b[0m\n\u001b[1;32m     17\u001b[0m \u001b[0;34m\u001b[0m\u001b[0m\n",
      "\u001b[0;32m~/aind2-nlp-capstone/project_tests.py\u001b[0m in \u001b[0;36mtest_encdec_model\u001b[0;34m(encdec_model)\u001b[0m\n\u001b[1;32m     81\u001b[0m \u001b[0;34m\u001b[0m\u001b[0m\n\u001b[1;32m     82\u001b[0m     \u001b[0mmodel\u001b[0m \u001b[0;34m=\u001b[0m \u001b[0mencdec_model\u001b[0m\u001b[0;34m(\u001b[0m\u001b[0minput_shape\u001b[0m\u001b[0;34m,\u001b[0m \u001b[0moutput_sequence_length\u001b[0m\u001b[0;34m,\u001b[0m \u001b[0menglish_vocab_size\u001b[0m\u001b[0;34m,\u001b[0m \u001b[0mfrench_vocab_size\u001b[0m\u001b[0;34m)\u001b[0m\u001b[0;34m\u001b[0m\u001b[0m\n\u001b[0;32m---> 83\u001b[0;31m     \u001b[0m_test_model\u001b[0m\u001b[0;34m(\u001b[0m\u001b[0mmodel\u001b[0m\u001b[0;34m,\u001b[0m \u001b[0minput_shape\u001b[0m\u001b[0;34m,\u001b[0m \u001b[0moutput_sequence_length\u001b[0m\u001b[0;34m,\u001b[0m \u001b[0mfrench_vocab_size\u001b[0m\u001b[0;34m)\u001b[0m\u001b[0;34m\u001b[0m\u001b[0m\n\u001b[0m\u001b[1;32m     84\u001b[0m \u001b[0;34m\u001b[0m\u001b[0m\n\u001b[1;32m     85\u001b[0m \u001b[0;34m\u001b[0m\u001b[0m\n",
      "\u001b[0;32m~/aind2-nlp-capstone/project_tests.py\u001b[0m in \u001b[0;36m_test_model\u001b[0;34m(model, input_shape, output_sequence_length, french_vocab_size)\u001b[0m\n\u001b[1;32m     10\u001b[0m         \u001b[0mmodel\u001b[0m \u001b[0;34m=\u001b[0m \u001b[0mmodel\u001b[0m\u001b[0;34m.\u001b[0m\u001b[0mmodel\u001b[0m\u001b[0;34m\u001b[0m\u001b[0m\n\u001b[1;32m     11\u001b[0m \u001b[0;34m\u001b[0m\u001b[0m\n\u001b[0;32m---> 12\u001b[0;31m     \u001b[0;32massert\u001b[0m \u001b[0mmodel\u001b[0m\u001b[0;34m.\u001b[0m\u001b[0minput_shape\u001b[0m \u001b[0;34m==\u001b[0m \u001b[0;34m(\u001b[0m\u001b[0;32mNone\u001b[0m\u001b[0;34m,\u001b[0m \u001b[0;34m*\u001b[0m\u001b[0minput_shape\u001b[0m\u001b[0;34m[\u001b[0m\u001b[0;36m1\u001b[0m\u001b[0;34m:\u001b[0m\u001b[0;34m]\u001b[0m\u001b[0;34m)\u001b[0m\u001b[0;34m,\u001b[0m\u001b[0;31m\\\u001b[0m\u001b[0;34m\u001b[0m\u001b[0m\n\u001b[0m\u001b[1;32m     13\u001b[0m         \u001b[0;34m'Wrong input shape. Found input shape {} using parameter input_shape={}'\u001b[0m\u001b[0;34m.\u001b[0m\u001b[0mformat\u001b[0m\u001b[0;34m(\u001b[0m\u001b[0mmodel\u001b[0m\u001b[0;34m.\u001b[0m\u001b[0minput_shape\u001b[0m\u001b[0;34m,\u001b[0m \u001b[0minput_shape\u001b[0m\u001b[0;34m)\u001b[0m\u001b[0;34m\u001b[0m\u001b[0m\n\u001b[1;32m     14\u001b[0m \u001b[0;34m\u001b[0m\u001b[0m\n",
      "\u001b[0;31mAttributeError\u001b[0m: 'NoneType' object has no attribute 'input_shape'"
     ]
    }
   ],
   "source": [
    "from keras.layers import RepeatVector\n",
    "\n",
    "\n",
    "def encdec_model(input_shape, output_sequence_length, english_vocab_size, french_vocab_size):\n",
    "    \"\"\"\n",
    "    Build and train an encoder-decoder model on x and y\n",
    "    :param input_shape: Tuple of input shape\n",
    "    :param output_sequence_length: Length of output sequence\n",
    "    :param english_vocab_size: Number of unique English words in the dataset\n",
    "    :param french_vocab_size: Number of unique French words in the dataset\n",
    "    :return: Keras model built, but not trained\n",
    "    \"\"\"\n",
    "    # OPTIONAL: Implement\n",
    "    return None\n",
    "tests.test_encdec_model(encdec_model)\n",
    "\n",
    "\n",
    "# OPTIONAL: Train and Print prediction(s)"
   ]
  },
  {
   "cell_type": "markdown",
   "metadata": {},
   "source": [
    "### Model 5: Custom (IMPLEMENTATION)\n",
    "Use everything you learned from the previous models to create a model that incorporates embedding and a bidirectional rnn into one model."
   ]
  },
  {
   "cell_type": "code",
   "execution_count": 26,
   "metadata": {},
   "outputs": [
    {
     "name": "stdout",
     "output_type": "stream",
     "text": [
      "Final Model Loaded\n"
     ]
    }
   ],
   "source": [
    "def model_final(input_shape, output_sequence_length, english_vocab_size, french_vocab_size):\n",
    "    \"\"\"\n",
    "    Build and train a model that incorporates embedding, encoder-decoder, and bidirectional RNN on x and y\n",
    "    :param input_shape: Tuple of input shape\n",
    "    :param output_sequence_length: Length of output sequence\n",
    "    :param english_vocab_size: Number of unique English words in the dataset\n",
    "    :param french_vocab_size: Number of unique French words in the dataset\n",
    "    :return: Keras model built, but not trained\n",
    "    \"\"\"\n",
    "    # Implement\n",
    "    learning_rate = 0.001\n",
    "    inputs = Input(shape = input_shape[1:])\n",
    "    modelEmbd = Embedding(english_vocab_size, french_vocab_size)(inputs)\n",
    "    #x = Bidirectional(GRU(output_sequence_length))(modelEmbd)\n",
    "    #x = RepeatVector(output_sequence_length)(x)\n",
    "    #x = Bidirectional(GRU(output_sequence_length, return_sequences=True))(x)\n",
    "    x = Bidirectional(GRU(output_sequence_length, return_sequences=True))(modelEmbd)\n",
    "    x = TimeDistributed(Dense(french_vocab_size, activation='relu'))(x)\n",
    "    \n",
    "    predictions = Activation('softmax')(x)\n",
    "    model = Model(inputs=inputs, outputs=predictions)\n",
    "    model.compile(loss=sparse_categorical_crossentropy,\n",
    "                  optimizer=Adam(learning_rate),\n",
    "                  metrics=['accuracy'])\n",
    "    return model\n",
    "tests.test_embed_model(embed_model)\n",
    "\n",
    "print('Final Model Loaded')"
   ]
  },
  {
   "cell_type": "markdown",
   "metadata": {},
   "source": [
    "## Prediction (IMPLEMENTATION)"
   ]
  },
  {
   "cell_type": "code",
   "execution_count": 29,
   "metadata": {},
   "outputs": [
    {
     "name": "stdout",
     "output_type": "stream",
     "text": [
      "Train on 110288 samples, validate on 27573 samples\n",
      "Epoch 1/35\n",
      "110288/110288 [==============================] - 12s - loss: 4.0681 - acc: 0.4712 - val_loss: 2.3791 - val_acc: 0.5652\n",
      "Epoch 2/35\n",
      "110288/110288 [==============================] - 11s - loss: 1.9702 - acc: 0.6147 - val_loss: 1.6562 - val_acc: 0.6497\n",
      "Epoch 3/35\n",
      "110288/110288 [==============================] - 11s - loss: 1.4659 - acc: 0.6757 - val_loss: 1.3153 - val_acc: 0.6949\n",
      "Epoch 4/35\n",
      "110288/110288 [==============================] - 11s - loss: 1.2289 - acc: 0.7050 - val_loss: 1.1463 - val_acc: 0.7168\n",
      "Epoch 5/35\n",
      "110288/110288 [==============================] - 11s - loss: 1.0869 - acc: 0.7251 - val_loss: 1.0243 - val_acc: 0.7344\n",
      "Epoch 6/35\n",
      "110288/110288 [==============================] - 11s - loss: 0.9564 - acc: 0.7480 - val_loss: 0.8996 - val_acc: 0.7604\n",
      "Epoch 7/35\n",
      "110288/110288 [==============================] - 11s - loss: 0.8549 - acc: 0.7718 - val_loss: 0.8130 - val_acc: 0.7812\n",
      "Epoch 8/35\n",
      "110288/110288 [==============================] - 11s - loss: 0.7797 - acc: 0.7882 - val_loss: 0.7487 - val_acc: 0.7953\n",
      "Epoch 9/35\n",
      "110288/110288 [==============================] - 11s - loss: 0.7239 - acc: 0.8016 - val_loss: 0.6968 - val_acc: 0.8076\n",
      "Epoch 10/35\n",
      "110288/110288 [==============================] - 11s - loss: 0.6776 - acc: 0.8136 - val_loss: 0.6561 - val_acc: 0.8193\n",
      "Epoch 11/35\n",
      "110288/110288 [==============================] - 11s - loss: 0.6393 - acc: 0.8246 - val_loss: 0.6242 - val_acc: 0.8298\n",
      "Epoch 12/35\n",
      "110288/110288 [==============================] - 11s - loss: 0.6040 - acc: 0.8365 - val_loss: 0.5791 - val_acc: 0.8422\n",
      "Epoch 13/35\n",
      "110288/110288 [==============================] - 11s - loss: 0.5586 - acc: 0.8486 - val_loss: 0.5439 - val_acc: 0.8532\n",
      "Epoch 14/35\n",
      "110288/110288 [==============================] - 11s - loss: 0.5308 - acc: 0.8579 - val_loss: 0.5222 - val_acc: 0.8593\n",
      "Epoch 15/35\n",
      "110288/110288 [==============================] - 11s - loss: 0.5094 - acc: 0.8643 - val_loss: 0.5004 - val_acc: 0.8672\n",
      "Epoch 16/35\n",
      "110288/110288 [==============================] - 11s - loss: 0.4888 - acc: 0.8706 - val_loss: 0.4824 - val_acc: 0.8734\n",
      "Epoch 17/35\n",
      "110288/110288 [==============================] - 11s - loss: 0.4722 - acc: 0.8763 - val_loss: 0.4668 - val_acc: 0.8787\n",
      "Epoch 18/35\n",
      "110288/110288 [==============================] - 11s - loss: 0.4577 - acc: 0.8809 - val_loss: 0.4538 - val_acc: 0.8821\n",
      "Epoch 19/35\n",
      "110288/110288 [==============================] - 11s - loss: 0.4440 - acc: 0.8853 - val_loss: 0.4413 - val_acc: 0.8866\n",
      "Epoch 20/35\n",
      "110288/110288 [==============================] - 11s - loss: 0.4332 - acc: 0.8885 - val_loss: 0.4314 - val_acc: 0.8883\n",
      "Epoch 21/35\n",
      "110288/110288 [==============================] - 11s - loss: 0.4222 - acc: 0.8918 - val_loss: 0.4216 - val_acc: 0.8928\n",
      "Epoch 22/35\n",
      "110288/110288 [==============================] - 11s - loss: 0.4131 - acc: 0.8946 - val_loss: 0.4134 - val_acc: 0.8947\n",
      "Epoch 23/35\n",
      "110288/110288 [==============================] - 11s - loss: 0.4042 - acc: 0.8975 - val_loss: 0.4079 - val_acc: 0.8972\n",
      "Epoch 24/35\n",
      "110288/110288 [==============================] - 11s - loss: 0.3966 - acc: 0.8996 - val_loss: 0.3969 - val_acc: 0.9007\n",
      "Epoch 25/35\n",
      "110288/110288 [==============================] - 11s - loss: 0.3898 - acc: 0.9018 - val_loss: 0.3907 - val_acc: 0.9021\n",
      "Epoch 26/35\n",
      "110288/110288 [==============================] - 11s - loss: 0.3833 - acc: 0.9038 - val_loss: 0.3845 - val_acc: 0.9041\n",
      "Epoch 27/35\n",
      "110288/110288 [==============================] - 11s - loss: 0.3765 - acc: 0.9060 - val_loss: 0.3789 - val_acc: 0.9057\n",
      "Epoch 28/35\n",
      "110288/110288 [==============================] - 11s - loss: 0.3723 - acc: 0.9070 - val_loss: 0.3753 - val_acc: 0.9068\n",
      "Epoch 29/35\n",
      "110288/110288 [==============================] - 11s - loss: 0.3662 - acc: 0.9089 - val_loss: 0.3691 - val_acc: 0.9081\n",
      "Epoch 30/35\n",
      "110288/110288 [==============================] - 11s - loss: 0.3606 - acc: 0.9104 - val_loss: 0.3661 - val_acc: 0.9095\n",
      "Epoch 31/35\n",
      "110288/110288 [==============================] - 11s - loss: 0.3556 - acc: 0.9114 - val_loss: 0.3583 - val_acc: 0.9104\n",
      "Epoch 32/35\n",
      "110288/110288 [==============================] - 11s - loss: 0.3498 - acc: 0.9130 - val_loss: 0.3559 - val_acc: 0.9122\n",
      "Epoch 33/35\n",
      "110288/110288 [==============================] - 11s - loss: 0.3464 - acc: 0.9140 - val_loss: 0.3518 - val_acc: 0.9125\n",
      "Epoch 34/35\n",
      "110288/110288 [==============================] - 11s - loss: 0.3425 - acc: 0.9149 - val_loss: 0.3473 - val_acc: 0.9137\n",
      "Epoch 35/35\n",
      "110288/110288 [==============================] - 11s - loss: 0.3393 - acc: 0.9158 - val_loss: 0.3439 - val_acc: 0.9157\n",
      "Sample 1:\n",
      "il a vu un vieux camion jaune <PAD> <PAD> <PAD> <PAD> <PAD> <PAD> <PAD> <PAD> <PAD> <PAD> <PAD> <PAD> <PAD> <PAD>\n",
      "Il a vu un vieux camion jaune\n",
      "Sample 2:\n",
      "new jersey est parfois calme au l' et il il est neigeux en avril <PAD> <PAD> <PAD> <PAD> <PAD> <PAD> <PAD>\n",
      "<PAD> <PAD> <PAD> <PAD> <PAD> <PAD> <PAD> <PAD> <PAD> <PAD> <PAD> <PAD> <PAD> <PAD> <PAD> <PAD> <PAD> <PAD> <PAD> <PAD> <PAD>\n"
     ]
    }
   ],
   "source": [
    "import numpy as np\n",
    "from keras.preprocessing.sequence import pad_sequences\n",
    "\n",
    "\n",
    "def final_predictions(x, y, x_tk, y_tk):\n",
    "    \"\"\"\n",
    "    Gets predictions using the final model\n",
    "    :param x: Preprocessed English data\n",
    "    :param y: Preprocessed French data\n",
    "    :param x_tk: English tokenizer\n",
    "    :param y_tk: French tokenizer\n",
    "    \"\"\"\n",
    "    # TODO: Train neural network using model_final\n",
    "    x = pad(x, y.shape[1])\n",
    "    x = x.reshape((-1, y.shape[-2]))\n",
    "    \n",
    "    model = model_final(x.shape,\n",
    "        y.shape[1],\n",
    "        len(x_tk.word_index)+1,\n",
    "        len(y_tk.word_index)+1)\n",
    "\n",
    "    model.fit(x, y, batch_size = 1024, epochs=35, validation_split = 0.2)\n",
    "\n",
    "    \n",
    "    ## DON'T EDIT ANYTHING BELOW THIS LINE\n",
    "    y_id_to_word = {value: key for key, value in y_tk.word_index.items()}\n",
    "    y_id_to_word[0] = '<PAD>'\n",
    "\n",
    "    sentence = 'he saw a old yellow truck'\n",
    "    sentence = [x_tk.word_index[word] for word in sentence.split()]\n",
    "    sentence = pad_sequences([sentence], maxlen=x.shape[-1], padding='post')\n",
    "    sentences = np.array([sentence[0], x[0]])\n",
    "    predictions = model.predict(sentences, len(sentences))\n",
    "    \n",
    "    print('Sample 1:')\n",
    "    print(' '.join([y_id_to_word[np.argmax(x)] for x in predictions[0]]))\n",
    "    print('Il a vu un vieux camion jaune')\n",
    "    print('Sample 2:')\n",
    "    print(' '.join([y_id_to_word[np.argmax(x)] for x in predictions[1]]))\n",
    "    print(' '.join([y_id_to_word[np.argmax(x)] for x in y[0]]))\n",
    "\n",
    "\n",
    "final_predictions(preproc_english_sentences, preproc_french_sentences, english_tokenizer, french_tokenizer)"
   ]
  },
  {
   "cell_type": "markdown",
   "metadata": {},
   "source": [
    "## Submission\n",
    "When you are ready to submit your project, do the following steps:\n",
    "1. Ensure you pass all points on the [rubric](https://review.udacity.com/#!/rubrics/1004/view).\n",
    "2. Submit the following in a zip file.\n",
    "  - `helper.py`\n",
    "  - `machine_translation.ipynb`\n",
    "  - `machine_translation.html`\n",
    "    - You can export the notebook by navigating to **File -> Download as -> HTML (.html)**."
   ]
  },
  {
   "cell_type": "code",
   "execution_count": null,
   "metadata": {},
   "outputs": [],
   "source": []
  }
 ],
 "metadata": {
  "kernelspec": {
   "display_name": "Python [conda env:aind-cv]",
   "language": "python",
   "name": "conda-env-aind-cv-py"
  },
  "language_info": {
   "codemirror_mode": {
    "name": "ipython",
    "version": 3
   },
   "file_extension": ".py",
   "mimetype": "text/x-python",
   "name": "python",
   "nbconvert_exporter": "python",
   "pygments_lexer": "ipython3",
   "version": "3.5.4"
  }
 },
 "nbformat": 4,
 "nbformat_minor": 1
}
